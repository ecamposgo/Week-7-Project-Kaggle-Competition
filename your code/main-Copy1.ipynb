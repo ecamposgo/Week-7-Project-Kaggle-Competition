{
 "cells": [
  {
   "cell_type": "markdown",
   "id": "8b2db3b9",
   "metadata": {},
   "source": [
    "## Disfrutad :)"
   ]
  },
  {
   "cell_type": "code",
   "execution_count": 1,
   "id": "5ba2ead3",
   "metadata": {},
   "outputs": [],
   "source": [
    "%matplotlib inline\n",
    "\n",
    "import numpy as np\n",
    "import pandas as pd\n",
    "\n",
    "import warnings\n",
    "warnings.filterwarnings('ignore')"
   ]
  },
  {
   "cell_type": "code",
   "execution_count": 2,
   "id": "685b1058",
   "metadata": {},
   "outputs": [],
   "source": [
    "salaries_data = pd.read_csv('../data/salaries_data.csv')\n",
    "test = pd.read_csv('../data/test.csv')"
   ]
  },
  {
   "cell_type": "code",
   "execution_count": 3,
   "id": "a2058915",
   "metadata": {},
   "outputs": [
    {
     "data": {
      "text/plain": [
       "((500, 9), (107, 8))"
      ]
     },
     "execution_count": 3,
     "metadata": {},
     "output_type": "execute_result"
    }
   ],
   "source": [
    "salaries_data.shape, test.shape"
   ]
  },
  {
   "cell_type": "code",
   "execution_count": 4,
   "id": "03aad03e",
   "metadata": {},
   "outputs": [],
   "source": [
    "todo = pd.concat([salaries_data, test], axis=0)"
   ]
  },
  {
   "cell_type": "code",
   "execution_count": 5,
   "id": "96984958",
   "metadata": {},
   "outputs": [
    {
     "data": {
      "text/plain": [
       "(607, 9)"
      ]
     },
     "execution_count": 5,
     "metadata": {},
     "output_type": "execute_result"
    }
   ],
   "source": [
    "todo.shape"
   ]
  },
  {
   "cell_type": "code",
   "execution_count": 6,
   "id": "0e963b54",
   "metadata": {},
   "outputs": [
    {
     "data": {
      "text/html": [
       "<div>\n",
       "<style scoped>\n",
       "    .dataframe tbody tr th:only-of-type {\n",
       "        vertical-align: middle;\n",
       "    }\n",
       "\n",
       "    .dataframe tbody tr th {\n",
       "        vertical-align: top;\n",
       "    }\n",
       "\n",
       "    .dataframe thead th {\n",
       "        text-align: right;\n",
       "    }\n",
       "</style>\n",
       "<table border=\"1\" class=\"dataframe\">\n",
       "  <thead>\n",
       "    <tr style=\"text-align: right;\">\n",
       "      <th></th>\n",
       "      <th>work_year</th>\n",
       "      <th>experience_level</th>\n",
       "      <th>employment_type</th>\n",
       "      <th>job_title</th>\n",
       "      <th>salary_in_usd</th>\n",
       "      <th>employee_residence</th>\n",
       "      <th>remote_ratio</th>\n",
       "      <th>company_location</th>\n",
       "      <th>company_size</th>\n",
       "    </tr>\n",
       "  </thead>\n",
       "  <tbody>\n",
       "    <tr>\n",
       "      <th>0</th>\n",
       "      <td>2022</td>\n",
       "      <td>SE</td>\n",
       "      <td>FT</td>\n",
       "      <td>Data Engineer</td>\n",
       "      <td>140250.0</td>\n",
       "      <td>US</td>\n",
       "      <td>100</td>\n",
       "      <td>US</td>\n",
       "      <td>M</td>\n",
       "    </tr>\n",
       "    <tr>\n",
       "      <th>1</th>\n",
       "      <td>2022</td>\n",
       "      <td>SE</td>\n",
       "      <td>FT</td>\n",
       "      <td>Data Engineer</td>\n",
       "      <td>135000.0</td>\n",
       "      <td>US</td>\n",
       "      <td>100</td>\n",
       "      <td>US</td>\n",
       "      <td>M</td>\n",
       "    </tr>\n",
       "    <tr>\n",
       "      <th>2</th>\n",
       "      <td>2021</td>\n",
       "      <td>MI</td>\n",
       "      <td>FT</td>\n",
       "      <td>BI Data Analyst</td>\n",
       "      <td>100000.0</td>\n",
       "      <td>US</td>\n",
       "      <td>100</td>\n",
       "      <td>US</td>\n",
       "      <td>M</td>\n",
       "    </tr>\n",
       "    <tr>\n",
       "      <th>3</th>\n",
       "      <td>2021</td>\n",
       "      <td>MI</td>\n",
       "      <td>CT</td>\n",
       "      <td>ML Engineer</td>\n",
       "      <td>270000.0</td>\n",
       "      <td>US</td>\n",
       "      <td>100</td>\n",
       "      <td>US</td>\n",
       "      <td>L</td>\n",
       "    </tr>\n",
       "    <tr>\n",
       "      <th>4</th>\n",
       "      <td>2021</td>\n",
       "      <td>MI</td>\n",
       "      <td>FT</td>\n",
       "      <td>Data Engineer</td>\n",
       "      <td>26005.0</td>\n",
       "      <td>RO</td>\n",
       "      <td>0</td>\n",
       "      <td>US</td>\n",
       "      <td>L</td>\n",
       "    </tr>\n",
       "  </tbody>\n",
       "</table>\n",
       "</div>"
      ],
      "text/plain": [
       "   work_year experience_level employment_type        job_title  salary_in_usd  \\\n",
       "0       2022               SE              FT    Data Engineer       140250.0   \n",
       "1       2022               SE              FT    Data Engineer       135000.0   \n",
       "2       2021               MI              FT  BI Data Analyst       100000.0   \n",
       "3       2021               MI              CT      ML Engineer       270000.0   \n",
       "4       2021               MI              FT    Data Engineer        26005.0   \n",
       "\n",
       "  employee_residence  remote_ratio company_location company_size  \n",
       "0                 US           100               US            M  \n",
       "1                 US           100               US            M  \n",
       "2                 US           100               US            M  \n",
       "3                 US           100               US            L  \n",
       "4                 RO             0               US            L  "
      ]
     },
     "execution_count": 6,
     "metadata": {},
     "output_type": "execute_result"
    }
   ],
   "source": [
    "todo.head()"
   ]
  },
  {
   "cell_type": "code",
   "execution_count": 7,
   "id": "8b5a69f4",
   "metadata": {},
   "outputs": [
    {
     "name": "stdout",
     "output_type": "stream",
     "text": [
      "<class 'pandas.core.frame.DataFrame'>\n",
      "Int64Index: 607 entries, 0 to 106\n",
      "Data columns (total 9 columns):\n",
      " #   Column              Non-Null Count  Dtype  \n",
      "---  ------              --------------  -----  \n",
      " 0   work_year           607 non-null    int64  \n",
      " 1   experience_level    607 non-null    object \n",
      " 2   employment_type     607 non-null    object \n",
      " 3   job_title           607 non-null    object \n",
      " 4   salary_in_usd       500 non-null    float64\n",
      " 5   employee_residence  607 non-null    object \n",
      " 6   remote_ratio        607 non-null    int64  \n",
      " 7   company_location    607 non-null    object \n",
      " 8   company_size        607 non-null    object \n",
      "dtypes: float64(1), int64(2), object(6)\n",
      "memory usage: 236.7 KB\n"
     ]
    }
   ],
   "source": [
    "todo.info(memory_usage='deep')"
   ]
  },
  {
   "cell_type": "code",
   "execution_count": 8,
   "id": "d7446424",
   "metadata": {
    "scrolled": true
   },
   "outputs": [
    {
     "data": {
      "text/plain": [
       "work_year\n",
       "2020     79833.0\n",
       "2021     82744.0\n",
       "2022    120000.0\n",
       "Name: salary_in_usd, dtype: float64"
      ]
     },
     "execution_count": 8,
     "metadata": {},
     "output_type": "execute_result"
    }
   ],
   "source": [
    "todo.groupby('work_year').median().salary_in_usd"
   ]
  },
  {
   "cell_type": "code",
   "execution_count": 9,
   "id": "0a1a9c2b",
   "metadata": {},
   "outputs": [
    {
     "data": {
      "text/html": [
       "<div>\n",
       "<style scoped>\n",
       "    .dataframe tbody tr th:only-of-type {\n",
       "        vertical-align: middle;\n",
       "    }\n",
       "\n",
       "    .dataframe tbody tr th {\n",
       "        vertical-align: top;\n",
       "    }\n",
       "\n",
       "    .dataframe thead th {\n",
       "        text-align: right;\n",
       "    }\n",
       "</style>\n",
       "<table border=\"1\" class=\"dataframe\">\n",
       "  <thead>\n",
       "    <tr style=\"text-align: right;\">\n",
       "      <th></th>\n",
       "      <th>work_year</th>\n",
       "      <th>experience_level</th>\n",
       "      <th>employment_type</th>\n",
       "      <th>job_title</th>\n",
       "      <th>salary_in_usd</th>\n",
       "      <th>employee_residence</th>\n",
       "      <th>remote_ratio</th>\n",
       "      <th>company_location</th>\n",
       "      <th>company_size</th>\n",
       "    </tr>\n",
       "  </thead>\n",
       "  <tbody>\n",
       "    <tr>\n",
       "      <th>0</th>\n",
       "      <td>5</td>\n",
       "      <td>SE</td>\n",
       "      <td>FT</td>\n",
       "      <td>Data Engineer</td>\n",
       "      <td>140250.0</td>\n",
       "      <td>US</td>\n",
       "      <td>100</td>\n",
       "      <td>US</td>\n",
       "      <td>M</td>\n",
       "    </tr>\n",
       "    <tr>\n",
       "      <th>1</th>\n",
       "      <td>5</td>\n",
       "      <td>SE</td>\n",
       "      <td>FT</td>\n",
       "      <td>Data Engineer</td>\n",
       "      <td>135000.0</td>\n",
       "      <td>US</td>\n",
       "      <td>100</td>\n",
       "      <td>US</td>\n",
       "      <td>M</td>\n",
       "    </tr>\n",
       "    <tr>\n",
       "      <th>2</th>\n",
       "      <td>3</td>\n",
       "      <td>MI</td>\n",
       "      <td>FT</td>\n",
       "      <td>BI Data Analyst</td>\n",
       "      <td>100000.0</td>\n",
       "      <td>US</td>\n",
       "      <td>100</td>\n",
       "      <td>US</td>\n",
       "      <td>M</td>\n",
       "    </tr>\n",
       "    <tr>\n",
       "      <th>3</th>\n",
       "      <td>3</td>\n",
       "      <td>MI</td>\n",
       "      <td>CT</td>\n",
       "      <td>ML Engineer</td>\n",
       "      <td>270000.0</td>\n",
       "      <td>US</td>\n",
       "      <td>100</td>\n",
       "      <td>US</td>\n",
       "      <td>L</td>\n",
       "    </tr>\n",
       "    <tr>\n",
       "      <th>4</th>\n",
       "      <td>3</td>\n",
       "      <td>MI</td>\n",
       "      <td>FT</td>\n",
       "      <td>Data Engineer</td>\n",
       "      <td>26005.0</td>\n",
       "      <td>RO</td>\n",
       "      <td>0</td>\n",
       "      <td>US</td>\n",
       "      <td>L</td>\n",
       "    </tr>\n",
       "  </tbody>\n",
       "</table>\n",
       "</div>"
      ],
      "text/plain": [
       "   work_year experience_level employment_type        job_title  salary_in_usd  \\\n",
       "0          5               SE              FT    Data Engineer       140250.0   \n",
       "1          5               SE              FT    Data Engineer       135000.0   \n",
       "2          3               MI              FT  BI Data Analyst       100000.0   \n",
       "3          3               MI              CT      ML Engineer       270000.0   \n",
       "4          3               MI              FT    Data Engineer        26005.0   \n",
       "\n",
       "  employee_residence  remote_ratio company_location company_size  \n",
       "0                 US           100               US            M  \n",
       "1                 US           100               US            M  \n",
       "2                 US           100               US            M  \n",
       "3                 US           100               US            L  \n",
       "4                 RO             0               US            L  "
      ]
     },
     "execution_count": 9,
     "metadata": {},
     "output_type": "execute_result"
    }
   ],
   "source": [
    "# label encoder custom\n",
    "from sklearn.preprocessing import LabelEncoder\n",
    "\n",
    "work_year={2020: 1, 2021: 3, 2022: 5} \n",
    "\n",
    "\n",
    "def cambio_work_year(x):   \n",
    "    return work_year[x]    \n",
    "\n",
    "\n",
    "todo.work_year=todo.work_year.apply(lambda x: work_year[x])\n",
    "\n",
    "todo.head()"
   ]
  },
  {
   "cell_type": "code",
   "execution_count": 10,
   "id": "b28ed22e",
   "metadata": {},
   "outputs": [
    {
     "data": {
      "text/plain": [
       "experience_level\n",
       "EN     54742.0\n",
       "EX    185989.5\n",
       "MI     77161.0\n",
       "SE    132320.0\n",
       "Name: salary_in_usd, dtype: float64"
      ]
     },
     "execution_count": 10,
     "metadata": {},
     "output_type": "execute_result"
    }
   ],
   "source": [
    "todo.groupby('experience_level').median().salary_in_usd"
   ]
  },
  {
   "cell_type": "code",
   "execution_count": 11,
   "id": "acebcb7c",
   "metadata": {},
   "outputs": [
    {
     "data": {
      "text/html": [
       "<div>\n",
       "<style scoped>\n",
       "    .dataframe tbody tr th:only-of-type {\n",
       "        vertical-align: middle;\n",
       "    }\n",
       "\n",
       "    .dataframe tbody tr th {\n",
       "        vertical-align: top;\n",
       "    }\n",
       "\n",
       "    .dataframe thead th {\n",
       "        text-align: right;\n",
       "    }\n",
       "</style>\n",
       "<table border=\"1\" class=\"dataframe\">\n",
       "  <thead>\n",
       "    <tr style=\"text-align: right;\">\n",
       "      <th></th>\n",
       "      <th>work_year</th>\n",
       "      <th>experience_level</th>\n",
       "      <th>employment_type</th>\n",
       "      <th>job_title</th>\n",
       "      <th>salary_in_usd</th>\n",
       "      <th>employee_residence</th>\n",
       "      <th>remote_ratio</th>\n",
       "      <th>company_location</th>\n",
       "      <th>company_size</th>\n",
       "    </tr>\n",
       "  </thead>\n",
       "  <tbody>\n",
       "    <tr>\n",
       "      <th>0</th>\n",
       "      <td>5</td>\n",
       "      <td>15</td>\n",
       "      <td>FT</td>\n",
       "      <td>Data Engineer</td>\n",
       "      <td>140250.0</td>\n",
       "      <td>US</td>\n",
       "      <td>100</td>\n",
       "      <td>US</td>\n",
       "      <td>M</td>\n",
       "    </tr>\n",
       "    <tr>\n",
       "      <th>1</th>\n",
       "      <td>5</td>\n",
       "      <td>15</td>\n",
       "      <td>FT</td>\n",
       "      <td>Data Engineer</td>\n",
       "      <td>135000.0</td>\n",
       "      <td>US</td>\n",
       "      <td>100</td>\n",
       "      <td>US</td>\n",
       "      <td>M</td>\n",
       "    </tr>\n",
       "    <tr>\n",
       "      <th>2</th>\n",
       "      <td>3</td>\n",
       "      <td>4</td>\n",
       "      <td>FT</td>\n",
       "      <td>BI Data Analyst</td>\n",
       "      <td>100000.0</td>\n",
       "      <td>US</td>\n",
       "      <td>100</td>\n",
       "      <td>US</td>\n",
       "      <td>M</td>\n",
       "    </tr>\n",
       "    <tr>\n",
       "      <th>3</th>\n",
       "      <td>3</td>\n",
       "      <td>4</td>\n",
       "      <td>CT</td>\n",
       "      <td>ML Engineer</td>\n",
       "      <td>270000.0</td>\n",
       "      <td>US</td>\n",
       "      <td>100</td>\n",
       "      <td>US</td>\n",
       "      <td>L</td>\n",
       "    </tr>\n",
       "    <tr>\n",
       "      <th>4</th>\n",
       "      <td>3</td>\n",
       "      <td>4</td>\n",
       "      <td>FT</td>\n",
       "      <td>Data Engineer</td>\n",
       "      <td>26005.0</td>\n",
       "      <td>RO</td>\n",
       "      <td>0</td>\n",
       "      <td>US</td>\n",
       "      <td>L</td>\n",
       "    </tr>\n",
       "  </tbody>\n",
       "</table>\n",
       "</div>"
      ],
      "text/plain": [
       "   work_year  experience_level employment_type        job_title  \\\n",
       "0          5                15              FT    Data Engineer   \n",
       "1          5                15              FT    Data Engineer   \n",
       "2          3                 4              FT  BI Data Analyst   \n",
       "3          3                 4              CT      ML Engineer   \n",
       "4          3                 4              FT    Data Engineer   \n",
       "\n",
       "   salary_in_usd employee_residence  remote_ratio company_location  \\\n",
       "0       140250.0                 US           100               US   \n",
       "1       135000.0                 US           100               US   \n",
       "2       100000.0                 US           100               US   \n",
       "3       270000.0                 US           100               US   \n",
       "4        26005.0                 RO             0               US   \n",
       "\n",
       "  company_size  \n",
       "0            M  \n",
       "1            M  \n",
       "2            M  \n",
       "3            L  \n",
       "4            L  "
      ]
     },
     "execution_count": 11,
     "metadata": {},
     "output_type": "execute_result"
    }
   ],
   "source": [
    "# label encoder custom\n",
    "from sklearn.preprocessing import LabelEncoder\n",
    "\n",
    "experience_level={'EN': 1, 'MI': 4, 'SE': 15, 'EX':19} \n",
    "\n",
    "\n",
    "def cambio_experience_level(x):   \n",
    "    return experience_level[x]    \n",
    "\n",
    "\n",
    "todo.experience_level=todo.experience_level.apply(lambda x: experience_level[x])\n",
    "\n",
    "todo.head()"
   ]
  },
  {
   "cell_type": "code",
   "execution_count": 12,
   "id": "6b8ad98a",
   "metadata": {
    "scrolled": true
   },
   "outputs": [
    {
     "data": {
      "text/plain": [
       "employment_type\n",
       "CT    222750.000000\n",
       "FL     48000.000000\n",
       "FT    113914.630165\n",
       "PT     35053.375000\n",
       "Name: salary_in_usd, dtype: float64"
      ]
     },
     "execution_count": 12,
     "metadata": {},
     "output_type": "execute_result"
    }
   ],
   "source": [
    "todo.groupby('employment_type').mean().salary_in_usd"
   ]
  },
  {
   "cell_type": "code",
   "execution_count": 13,
   "id": "b830e57e",
   "metadata": {},
   "outputs": [
    {
     "data": {
      "text/html": [
       "<div>\n",
       "<style scoped>\n",
       "    .dataframe tbody tr th:only-of-type {\n",
       "        vertical-align: middle;\n",
       "    }\n",
       "\n",
       "    .dataframe tbody tr th {\n",
       "        vertical-align: top;\n",
       "    }\n",
       "\n",
       "    .dataframe thead th {\n",
       "        text-align: right;\n",
       "    }\n",
       "</style>\n",
       "<table border=\"1\" class=\"dataframe\">\n",
       "  <thead>\n",
       "    <tr style=\"text-align: right;\">\n",
       "      <th></th>\n",
       "      <th>work_year</th>\n",
       "      <th>experience_level</th>\n",
       "      <th>employment_type</th>\n",
       "      <th>job_title</th>\n",
       "      <th>salary_in_usd</th>\n",
       "      <th>employee_residence</th>\n",
       "      <th>remote_ratio</th>\n",
       "      <th>company_location</th>\n",
       "      <th>company_size</th>\n",
       "    </tr>\n",
       "  </thead>\n",
       "  <tbody>\n",
       "    <tr>\n",
       "      <th>0</th>\n",
       "      <td>5</td>\n",
       "      <td>15</td>\n",
       "      <td>10</td>\n",
       "      <td>Data Engineer</td>\n",
       "      <td>140250.0</td>\n",
       "      <td>US</td>\n",
       "      <td>100</td>\n",
       "      <td>US</td>\n",
       "      <td>M</td>\n",
       "    </tr>\n",
       "    <tr>\n",
       "      <th>1</th>\n",
       "      <td>5</td>\n",
       "      <td>15</td>\n",
       "      <td>10</td>\n",
       "      <td>Data Engineer</td>\n",
       "      <td>135000.0</td>\n",
       "      <td>US</td>\n",
       "      <td>100</td>\n",
       "      <td>US</td>\n",
       "      <td>M</td>\n",
       "    </tr>\n",
       "    <tr>\n",
       "      <th>2</th>\n",
       "      <td>3</td>\n",
       "      <td>4</td>\n",
       "      <td>10</td>\n",
       "      <td>BI Data Analyst</td>\n",
       "      <td>100000.0</td>\n",
       "      <td>US</td>\n",
       "      <td>100</td>\n",
       "      <td>US</td>\n",
       "      <td>M</td>\n",
       "    </tr>\n",
       "    <tr>\n",
       "      <th>3</th>\n",
       "      <td>3</td>\n",
       "      <td>4</td>\n",
       "      <td>19</td>\n",
       "      <td>ML Engineer</td>\n",
       "      <td>270000.0</td>\n",
       "      <td>US</td>\n",
       "      <td>100</td>\n",
       "      <td>US</td>\n",
       "      <td>L</td>\n",
       "    </tr>\n",
       "    <tr>\n",
       "      <th>4</th>\n",
       "      <td>3</td>\n",
       "      <td>4</td>\n",
       "      <td>10</td>\n",
       "      <td>Data Engineer</td>\n",
       "      <td>26005.0</td>\n",
       "      <td>RO</td>\n",
       "      <td>0</td>\n",
       "      <td>US</td>\n",
       "      <td>L</td>\n",
       "    </tr>\n",
       "  </tbody>\n",
       "</table>\n",
       "</div>"
      ],
      "text/plain": [
       "   work_year  experience_level  employment_type        job_title  \\\n",
       "0          5                15               10    Data Engineer   \n",
       "1          5                15               10    Data Engineer   \n",
       "2          3                 4               10  BI Data Analyst   \n",
       "3          3                 4               19      ML Engineer   \n",
       "4          3                 4               10    Data Engineer   \n",
       "\n",
       "   salary_in_usd employee_residence  remote_ratio company_location  \\\n",
       "0       140250.0                 US           100               US   \n",
       "1       135000.0                 US           100               US   \n",
       "2       100000.0                 US           100               US   \n",
       "3       270000.0                 US           100               US   \n",
       "4        26005.0                 RO             0               US   \n",
       "\n",
       "  company_size  \n",
       "0            M  \n",
       "1            M  \n",
       "2            M  \n",
       "3            L  \n",
       "4            L  "
      ]
     },
     "execution_count": 13,
     "metadata": {},
     "output_type": "execute_result"
    }
   ],
   "source": [
    "# label encoder custom\n",
    "\n",
    "employment_type={'PT': 1, 'FL': 3, 'FT': 10, 'CT':19} \n",
    "\n",
    "\n",
    "def cambio_employment_type(x):   \n",
    "    return employment_type[x]    \n",
    "\n",
    "\n",
    "todo.employment_type=todo.employment_type.apply(lambda x: employment_type[x])\n",
    "\n",
    "\n",
    "todo.head()"
   ]
  },
  {
   "cell_type": "code",
   "execution_count": 14,
   "id": "c0736e4d",
   "metadata": {},
   "outputs": [
    {
     "data": {
      "text/plain": [
       "company_size\n",
       "L    121031.375758\n",
       "M    115805.494505\n",
       "S     79242.435484\n",
       "Name: salary_in_usd, dtype: float64"
      ]
     },
     "execution_count": 14,
     "metadata": {},
     "output_type": "execute_result"
    }
   ],
   "source": [
    "todo.groupby('company_size').mean().salary_in_usd"
   ]
  },
  {
   "cell_type": "code",
   "execution_count": 15,
   "id": "8e836ed5",
   "metadata": {},
   "outputs": [
    {
     "data": {
      "text/html": [
       "<div>\n",
       "<style scoped>\n",
       "    .dataframe tbody tr th:only-of-type {\n",
       "        vertical-align: middle;\n",
       "    }\n",
       "\n",
       "    .dataframe tbody tr th {\n",
       "        vertical-align: top;\n",
       "    }\n",
       "\n",
       "    .dataframe thead th {\n",
       "        text-align: right;\n",
       "    }\n",
       "</style>\n",
       "<table border=\"1\" class=\"dataframe\">\n",
       "  <thead>\n",
       "    <tr style=\"text-align: right;\">\n",
       "      <th></th>\n",
       "      <th>work_year</th>\n",
       "      <th>experience_level</th>\n",
       "      <th>employment_type</th>\n",
       "      <th>job_title</th>\n",
       "      <th>salary_in_usd</th>\n",
       "      <th>employee_residence</th>\n",
       "      <th>remote_ratio</th>\n",
       "      <th>company_location</th>\n",
       "      <th>company_size</th>\n",
       "    </tr>\n",
       "  </thead>\n",
       "  <tbody>\n",
       "    <tr>\n",
       "      <th>0</th>\n",
       "      <td>5</td>\n",
       "      <td>15</td>\n",
       "      <td>10</td>\n",
       "      <td>Data Engineer</td>\n",
       "      <td>140250.0</td>\n",
       "      <td>US</td>\n",
       "      <td>100</td>\n",
       "      <td>US</td>\n",
       "      <td>24</td>\n",
       "    </tr>\n",
       "    <tr>\n",
       "      <th>1</th>\n",
       "      <td>5</td>\n",
       "      <td>15</td>\n",
       "      <td>10</td>\n",
       "      <td>Data Engineer</td>\n",
       "      <td>135000.0</td>\n",
       "      <td>US</td>\n",
       "      <td>100</td>\n",
       "      <td>US</td>\n",
       "      <td>24</td>\n",
       "    </tr>\n",
       "    <tr>\n",
       "      <th>2</th>\n",
       "      <td>3</td>\n",
       "      <td>4</td>\n",
       "      <td>10</td>\n",
       "      <td>BI Data Analyst</td>\n",
       "      <td>100000.0</td>\n",
       "      <td>US</td>\n",
       "      <td>100</td>\n",
       "      <td>US</td>\n",
       "      <td>24</td>\n",
       "    </tr>\n",
       "    <tr>\n",
       "      <th>3</th>\n",
       "      <td>3</td>\n",
       "      <td>4</td>\n",
       "      <td>19</td>\n",
       "      <td>ML Engineer</td>\n",
       "      <td>270000.0</td>\n",
       "      <td>US</td>\n",
       "      <td>100</td>\n",
       "      <td>US</td>\n",
       "      <td>25</td>\n",
       "    </tr>\n",
       "    <tr>\n",
       "      <th>4</th>\n",
       "      <td>3</td>\n",
       "      <td>4</td>\n",
       "      <td>10</td>\n",
       "      <td>Data Engineer</td>\n",
       "      <td>26005.0</td>\n",
       "      <td>RO</td>\n",
       "      <td>0</td>\n",
       "      <td>US</td>\n",
       "      <td>25</td>\n",
       "    </tr>\n",
       "  </tbody>\n",
       "</table>\n",
       "</div>"
      ],
      "text/plain": [
       "   work_year  experience_level  employment_type        job_title  \\\n",
       "0          5                15               10    Data Engineer   \n",
       "1          5                15               10    Data Engineer   \n",
       "2          3                 4               10  BI Data Analyst   \n",
       "3          3                 4               19      ML Engineer   \n",
       "4          3                 4               10    Data Engineer   \n",
       "\n",
       "   salary_in_usd employee_residence  remote_ratio company_location  \\\n",
       "0       140250.0                 US           100               US   \n",
       "1       135000.0                 US           100               US   \n",
       "2       100000.0                 US           100               US   \n",
       "3       270000.0                 US           100               US   \n",
       "4        26005.0                 RO             0               US   \n",
       "\n",
       "   company_size  \n",
       "0            24  \n",
       "1            24  \n",
       "2            24  \n",
       "3            25  \n",
       "4            25  "
      ]
     },
     "execution_count": 15,
     "metadata": {},
     "output_type": "execute_result"
    }
   ],
   "source": [
    "# label encoder custom\n",
    "\n",
    "company_size={'S': 1, 'M': 24, 'L': 25} \n",
    "\n",
    "\n",
    "def cambio_employment_type(x):   \n",
    "    return company_size[x]    \n",
    "\n",
    "\n",
    "todo.company_size=todo.company_size.apply(lambda x: company_size[x])\n",
    "\n",
    "todo.head()"
   ]
  },
  {
   "cell_type": "code",
   "execution_count": 16,
   "id": "e8d15f54",
   "metadata": {},
   "outputs": [],
   "source": [
    "todo=todo.drop(['employee_residence','remote_ratio'], axis=1)"
   ]
  },
  {
   "cell_type": "code",
   "execution_count": 17,
   "id": "5d93675d",
   "metadata": {},
   "outputs": [
    {
     "data": {
      "text/plain": [
       "job_title\n",
       "3D Computer Vision Researcher                 5409.000000\n",
       "AI Scientist                                 59410.600000\n",
       "Analytics Engineer                          164900.000000\n",
       "Applied Data Scientist                      175655.000000\n",
       "Applied Machine Learning Scientist          178800.000000\n",
       "BI Data Analyst                              82454.400000\n",
       "Big Data Architect                           99703.000000\n",
       "Big Data Engineer                            57080.571429\n",
       "Business Data Analyst                        91253.500000\n",
       "Cloud Data Engineer                         124647.000000\n",
       "Computer Vision Engineer                     28226.750000\n",
       "Computer Vision Software Engineer            70000.000000\n",
       "Data Analyst                                 92154.555556\n",
       "Data Analytics Engineer                      35000.000000\n",
       "Data Analytics Lead                         405000.000000\n",
       "Data Analytics Manager                      127134.285714\n",
       "Data Architect                              175934.250000\n",
       "Data Engineer                               111636.207207\n",
       "Data Engineering Manager                    123227.200000\n",
       "Data Science Consultant                      67874.200000\n",
       "Data Science Engineer                        83705.000000\n",
       "Data Science Manager                        158328.500000\n",
       "Data Scientist                              110782.446281\n",
       "Data Specialist                             165000.000000\n",
       "Director of Data Engineering                156738.000000\n",
       "Director of Data Science                    195074.000000\n",
       "ETL Developer                                54957.000000\n",
       "Finance Data Analyst                         61896.000000\n",
       "Financial Data Analyst                      450000.000000\n",
       "Head of Data                                142703.250000\n",
       "Head of Data Science                        167000.000000\n",
       "Head of Machine Learning                     79039.000000\n",
       "Lead Data Analyst                            94804.500000\n",
       "Lead Data Engineer                          139724.500000\n",
       "Lead Data Scientist                         115190.000000\n",
       "Lead Machine Learning Engineer               87932.000000\n",
       "ML Engineer                                 117504.000000\n",
       "Machine Learning Developer                   78791.000000\n",
       "Machine Learning Engineer                   117583.129032\n",
       "Machine Learning Infrastructure Engineer     54217.500000\n",
       "Machine Learning Manager                    117104.000000\n",
       "Machine Learning Scientist                  143900.000000\n",
       "Marketing Data Analyst                       88654.000000\n",
       "NLP Engineer                                          NaN\n",
       "Principal Data Analyst                      170000.000000\n",
       "Principal Data Engineer                               NaN\n",
       "Principal Data Scientist                    214449.500000\n",
       "Product Data Analyst                         20000.000000\n",
       "Research Scientist                           99953.583333\n",
       "Staff Data Scientist                        105000.000000\n",
       "Name: salary_in_usd, dtype: float64"
      ]
     },
     "execution_count": 17,
     "metadata": {},
     "output_type": "execute_result"
    }
   ],
   "source": [
    "todo.groupby('job_title').mean().salary_in_usd"
   ]
  },
  {
   "cell_type": "code",
   "execution_count": 18,
   "id": "d3a37617",
   "metadata": {},
   "outputs": [
    {
     "data": {
      "text/html": [
       "<div>\n",
       "<style scoped>\n",
       "    .dataframe tbody tr th:only-of-type {\n",
       "        vertical-align: middle;\n",
       "    }\n",
       "\n",
       "    .dataframe tbody tr th {\n",
       "        vertical-align: top;\n",
       "    }\n",
       "\n",
       "    .dataframe thead th {\n",
       "        text-align: right;\n",
       "    }\n",
       "</style>\n",
       "<table border=\"1\" class=\"dataframe\">\n",
       "  <thead>\n",
       "    <tr style=\"text-align: right;\">\n",
       "      <th></th>\n",
       "      <th>work_year</th>\n",
       "      <th>experience_level</th>\n",
       "      <th>employment_type</th>\n",
       "      <th>job_title</th>\n",
       "      <th>salary_in_usd</th>\n",
       "      <th>company_location</th>\n",
       "      <th>company_size</th>\n",
       "    </tr>\n",
       "  </thead>\n",
       "  <tbody>\n",
       "    <tr>\n",
       "      <th>0</th>\n",
       "      <td>5</td>\n",
       "      <td>15</td>\n",
       "      <td>10</td>\n",
       "      <td>17</td>\n",
       "      <td>140250.0</td>\n",
       "      <td>US</td>\n",
       "      <td>24</td>\n",
       "    </tr>\n",
       "    <tr>\n",
       "      <th>1</th>\n",
       "      <td>5</td>\n",
       "      <td>15</td>\n",
       "      <td>10</td>\n",
       "      <td>17</td>\n",
       "      <td>135000.0</td>\n",
       "      <td>US</td>\n",
       "      <td>24</td>\n",
       "    </tr>\n",
       "    <tr>\n",
       "      <th>2</th>\n",
       "      <td>3</td>\n",
       "      <td>4</td>\n",
       "      <td>10</td>\n",
       "      <td>5</td>\n",
       "      <td>100000.0</td>\n",
       "      <td>US</td>\n",
       "      <td>24</td>\n",
       "    </tr>\n",
       "    <tr>\n",
       "      <th>3</th>\n",
       "      <td>3</td>\n",
       "      <td>4</td>\n",
       "      <td>19</td>\n",
       "      <td>36</td>\n",
       "      <td>270000.0</td>\n",
       "      <td>US</td>\n",
       "      <td>25</td>\n",
       "    </tr>\n",
       "    <tr>\n",
       "      <th>4</th>\n",
       "      <td>3</td>\n",
       "      <td>4</td>\n",
       "      <td>10</td>\n",
       "      <td>17</td>\n",
       "      <td>26005.0</td>\n",
       "      <td>US</td>\n",
       "      <td>25</td>\n",
       "    </tr>\n",
       "  </tbody>\n",
       "</table>\n",
       "</div>"
      ],
      "text/plain": [
       "   work_year  experience_level  employment_type  job_title  salary_in_usd  \\\n",
       "0          5                15               10         17       140250.0   \n",
       "1          5                15               10         17       135000.0   \n",
       "2          3                 4               10          5       100000.0   \n",
       "3          3                 4               19         36       270000.0   \n",
       "4          3                 4               10         17        26005.0   \n",
       "\n",
       "  company_location  company_size  \n",
       "0               US            24  \n",
       "1               US            24  \n",
       "2               US            24  \n",
       "3               US            25  \n",
       "4               US            25  "
      ]
     },
     "execution_count": 18,
     "metadata": {},
     "output_type": "execute_result"
    }
   ],
   "source": [
    "# label encoder custom\n",
    "\n",
    "#def category(job_title):\n",
    "    \n",
    "#    titles = ['Engineer','Head','Lead','Director','Financial','Research', 'Architect','Principal','Developer',\n",
    "#              'Research','Specialist']\n",
    "    \n",
    "#    for title in titles: \n",
    "#        if job_title.find(title) >= 0:\n",
    "            \n",
    "#            return title \n",
    "    \n",
    "#    return 'other'\n",
    "\n",
    "#todo['job_title'] = todo['job_title'].apply(category)\n",
    "\n",
    "todo.job_title=LabelEncoder().fit_transform(todo.job_title)\n",
    "\n",
    "todo.head()\n",
    "\n",
    "#todo.groupby('job_title').mean().salary_in_usd"
   ]
  },
  {
   "cell_type": "code",
   "execution_count": 19,
   "id": "48fe329d",
   "metadata": {
    "scrolled": true
   },
   "outputs": [],
   "source": [
    "#todo.groupby('company_location').median().salary_in_usd\n",
    "\n",
    "def cat_location(company_location):\n",
    "    \n",
    "    if company_location == 'US':\n",
    "        return 'nivel1'\n",
    "    elif company_location == 'NZ':\n",
    "        return 'nivel2'\n",
    "    elif company_location in ['CA','CN','AE','DZ']:\n",
    "        return 'nivel3'\n",
    "    elif company_location in ['SG','DK','JP','BE','DE']:\n",
    "        return 'nivel4'\n",
    "    elif company_location in ['GB','AT','PL','IE']:\n",
    "        return 'nivel5'\n",
    "    elif company_location in ['CZ','FR','CH','SI','RO']:\n",
    "        return 'nivel6'\n",
    "    elif company_location in ['NL','GR','ES']:\n",
    "        return 'nivel7'\n",
    "    elif company_location in ['PT','LU','CL']:\n",
    "        return 'nivel8'\n",
    "    elif company_location in ['HU','EE','IN','NG']:\n",
    "        return 'nivel9'\n",
    "    elif company_location in ['MT','BR','TR','HN']:\n",
    "        return 'nivel10'\n",
    "    elif company_location in ['AS','MD','UA','PK']:\n",
    "        return 'nivel11'\n",
    "    else:\n",
    "        return 'other'\n",
    "\n",
    "todo['company_location'] = todo['company_location'].apply(cat_location)\n"
   ]
  },
  {
   "cell_type": "code",
   "execution_count": 20,
   "id": "40a9318f",
   "metadata": {},
   "outputs": [
    {
     "data": {
      "text/html": [
       "<div>\n",
       "<style scoped>\n",
       "    .dataframe tbody tr th:only-of-type {\n",
       "        vertical-align: middle;\n",
       "    }\n",
       "\n",
       "    .dataframe tbody tr th {\n",
       "        vertical-align: top;\n",
       "    }\n",
       "\n",
       "    .dataframe thead th {\n",
       "        text-align: right;\n",
       "    }\n",
       "</style>\n",
       "<table border=\"1\" class=\"dataframe\">\n",
       "  <thead>\n",
       "    <tr style=\"text-align: right;\">\n",
       "      <th></th>\n",
       "      <th>work_year</th>\n",
       "      <th>experience_level</th>\n",
       "      <th>employment_type</th>\n",
       "      <th>job_title</th>\n",
       "      <th>salary_in_usd</th>\n",
       "      <th>company_location</th>\n",
       "      <th>company_size</th>\n",
       "    </tr>\n",
       "  </thead>\n",
       "  <tbody>\n",
       "    <tr>\n",
       "      <th>0</th>\n",
       "      <td>5</td>\n",
       "      <td>15</td>\n",
       "      <td>10</td>\n",
       "      <td>17</td>\n",
       "      <td>140250.0</td>\n",
       "      <td>13</td>\n",
       "      <td>24</td>\n",
       "    </tr>\n",
       "    <tr>\n",
       "      <th>1</th>\n",
       "      <td>5</td>\n",
       "      <td>15</td>\n",
       "      <td>10</td>\n",
       "      <td>17</td>\n",
       "      <td>135000.0</td>\n",
       "      <td>13</td>\n",
       "      <td>24</td>\n",
       "    </tr>\n",
       "    <tr>\n",
       "      <th>2</th>\n",
       "      <td>3</td>\n",
       "      <td>4</td>\n",
       "      <td>10</td>\n",
       "      <td>5</td>\n",
       "      <td>100000.0</td>\n",
       "      <td>13</td>\n",
       "      <td>24</td>\n",
       "    </tr>\n",
       "    <tr>\n",
       "      <th>3</th>\n",
       "      <td>3</td>\n",
       "      <td>4</td>\n",
       "      <td>19</td>\n",
       "      <td>36</td>\n",
       "      <td>270000.0</td>\n",
       "      <td>13</td>\n",
       "      <td>25</td>\n",
       "    </tr>\n",
       "    <tr>\n",
       "      <th>4</th>\n",
       "      <td>3</td>\n",
       "      <td>4</td>\n",
       "      <td>10</td>\n",
       "      <td>17</td>\n",
       "      <td>26005.0</td>\n",
       "      <td>13</td>\n",
       "      <td>25</td>\n",
       "    </tr>\n",
       "  </tbody>\n",
       "</table>\n",
       "</div>"
      ],
      "text/plain": [
       "   work_year  experience_level  employment_type  job_title  salary_in_usd  \\\n",
       "0          5                15               10         17       140250.0   \n",
       "1          5                15               10         17       135000.0   \n",
       "2          3                 4               10          5       100000.0   \n",
       "3          3                 4               19         36       270000.0   \n",
       "4          3                 4               10         17        26005.0   \n",
       "\n",
       "   company_location  company_size  \n",
       "0                13            24  \n",
       "1                13            24  \n",
       "2                13            24  \n",
       "3                13            25  \n",
       "4                13            25  "
      ]
     },
     "execution_count": 20,
     "metadata": {},
     "output_type": "execute_result"
    }
   ],
   "source": [
    "# Your code here\n",
    "# label encoder custom\n",
    "\n",
    "company_location={'nivel1': 13, 'nivel2': 11, 'nivel3': 10, 'nivel4': 9, 'nivel5': 8, 'nivel6': 7,\n",
    "                 'nivel7': 6, 'nivel8': 5, 'nivel9': 4, 'nivel10': 3, 'nivel11': 2, 'other': 1} \n",
    "\n",
    "\n",
    "def cambio_company_location(x):   \n",
    "    return company_location[x]    \n",
    "\n",
    "\n",
    "todo.company_location=todo.company_location.apply(lambda x: company_location[x])\n",
    "\n",
    "todo.head()"
   ]
  },
  {
   "cell_type": "code",
   "execution_count": 21,
   "id": "19d342b2",
   "metadata": {},
   "outputs": [],
   "source": [
    "salaries_data=todo[:500]"
   ]
  },
  {
   "cell_type": "code",
   "execution_count": 22,
   "id": "2191fcbc",
   "metadata": {},
   "outputs": [
    {
     "data": {
      "text/plain": [
       "(500, 7)"
      ]
     },
     "execution_count": 22,
     "metadata": {},
     "output_type": "execute_result"
    }
   ],
   "source": [
    "salaries_data.shape"
   ]
  },
  {
   "cell_type": "code",
   "execution_count": 23,
   "id": "86048d34",
   "metadata": {},
   "outputs": [],
   "source": [
    "test=todo[500:].drop(['salary_in_usd'], axis=1)"
   ]
  },
  {
   "cell_type": "code",
   "execution_count": 24,
   "id": "cabbe708",
   "metadata": {},
   "outputs": [
    {
     "data": {
      "text/plain": [
       "(107, 6)"
      ]
     },
     "execution_count": 24,
     "metadata": {},
     "output_type": "execute_result"
    }
   ],
   "source": [
    "test.shape"
   ]
  },
  {
   "cell_type": "code",
   "execution_count": 25,
   "id": "5b09c5e5",
   "metadata": {},
   "outputs": [],
   "source": [
    "from sklearn.model_selection import train_test_split as tts\n",
    "\n",
    "\n",
    "X=salaries_data.drop(['salary_in_usd'], axis=1)\n",
    "y=salaries_data['salary_in_usd']"
   ]
  },
  {
   "cell_type": "code",
   "execution_count": 26,
   "id": "dddde37a",
   "metadata": {},
   "outputs": [
    {
     "data": {
      "text/plain": [
       "((450, 6), (50, 6), (450,), (50,))"
      ]
     },
     "execution_count": 26,
     "metadata": {},
     "output_type": "execute_result"
    }
   ],
   "source": [
    "X_train, X_test, y_train, y_test = tts(X, y, train_size=0.9, test_size=0.1, random_state=42)\n",
    "\n",
    "X_train.shape, X_test.shape, y_train.shape, y_test.shape"
   ]
  },
  {
   "cell_type": "code",
   "execution_count": 27,
   "id": "0df28160",
   "metadata": {},
   "outputs": [
    {
     "data": {
      "text/plain": [
       "array([151073.86409503,  89421.15018827, 127095.72869524, 144623.6098257 ,\n",
       "       144623.6098257 ,  79157.52005581, 113771.46467533, 148959.13203962,\n",
       "       112972.7784553 ,  62669.02789203])"
      ]
     },
     "execution_count": 27,
     "metadata": {},
     "output_type": "execute_result"
    }
   ],
   "source": [
    "from sklearn.linear_model import LinearRegression as Ridge\n",
    "ridge=Ridge()\n",
    "ridge.fit(X_train, y_train)\n",
    "ridge.predict(X_test)[:10]"
   ]
  },
  {
   "cell_type": "code",
   "execution_count": 28,
   "id": "65a69db0",
   "metadata": {},
   "outputs": [
    {
     "data": {
      "text/plain": [
       "0.45627964380339203"
      ]
     },
     "execution_count": 28,
     "metadata": {},
     "output_type": "execute_result"
    }
   ],
   "source": [
    "from sklearn.metrics import r2_score as r2\n",
    "y_pred_ridge=ridge.predict(X_test)\n",
    "r2(y_test, y_pred_ridge)"
   ]
  },
  {
   "cell_type": "code",
   "execution_count": 29,
   "id": "5c2d55e7",
   "metadata": {},
   "outputs": [
    {
     "data": {
      "text/plain": [
       "0.46595431231822537"
      ]
     },
     "execution_count": 29,
     "metadata": {},
     "output_type": "execute_result"
    }
   ],
   "source": [
    "y_pred_ridge=ridge.predict(X_train)\n",
    "r2(y_train, y_pred_ridge)"
   ]
  },
  {
   "cell_type": "code",
   "execution_count": 30,
   "id": "4ddffd17",
   "metadata": {},
   "outputs": [
    {
     "data": {
      "text/plain": [
       "29521.94074146534"
      ]
     },
     "execution_count": 30,
     "metadata": {},
     "output_type": "execute_result"
    }
   ],
   "source": [
    "from sklearn.metrics import mean_absolute_error as mae\n",
    "y_pred_ridge=ridge.predict(X_test)\n",
    "mae(y_test, y_pred_ridge)"
   ]
  },
  {
   "cell_type": "code",
   "execution_count": 31,
   "id": "8c883c1a",
   "metadata": {},
   "outputs": [
    {
     "data": {
      "text/plain": [
       "107"
      ]
     },
     "execution_count": 31,
     "metadata": {},
     "output_type": "execute_result"
    }
   ],
   "source": [
    "#prediccion sobre los datos de test\n",
    "\n",
    "y_pred_ridge=ridge.predict(test)\n",
    "len(y_pred_ridge)"
   ]
  },
  {
   "cell_type": "code",
   "execution_count": 32,
   "id": "69373daf",
   "metadata": {},
   "outputs": [],
   "source": [
    "#index_lst = [i for i in range(107)]\n",
    "\n",
    "#sample= pd.DataFrame({\"id\" : index_lst, \"salary_in_usd\" : y_pred_ridge})\n",
    "#sample.to_csv(\"../data/sample.csv\", index=False)"
   ]
  }
 ],
 "metadata": {
  "kernelspec": {
   "display_name": "Python 3 (ipykernel)",
   "language": "python",
   "name": "python3"
  },
  "language_info": {
   "codemirror_mode": {
    "name": "ipython",
    "version": 3
   },
   "file_extension": ".py",
   "mimetype": "text/x-python",
   "name": "python",
   "nbconvert_exporter": "python",
   "pygments_lexer": "ipython3",
   "version": "3.9.12"
  }
 },
 "nbformat": 4,
 "nbformat_minor": 5
}
